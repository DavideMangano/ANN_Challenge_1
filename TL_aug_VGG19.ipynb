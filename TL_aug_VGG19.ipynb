{
  "nbformat": 4,
  "nbformat_minor": 0,
  "metadata": {
    "kernelspec": {
      "language": "python",
      "display_name": "Python 3",
      "name": "python3"
    },
    "language_info": {
      "name": "python",
      "version": "3.7.10",
      "mimetype": "text/x-python",
      "codemirror_mode": {
        "name": "ipython",
        "version": 3
      },
      "pygments_lexer": "ipython3",
      "nbconvert_exporter": "python",
      "file_extension": ".py"
    },
    "colab": {
      "name": "vgg19.ipynb",
      "provenance": [],
      "collapsed_sections": []
    }
  },
  "cells": [
    {
      "cell_type": "code",
      "metadata": {
        "_uuid": "8f2839f25d086af736a60e9eeb907d3b93b6e0e5",
        "_cell_guid": "b1076dfc-b9ad-4769-8c92-a6c4dae69d19",
        "execution": {
          "iopub.status.busy": "2021-11-19T11:51:57.292251Z",
          "iopub.execute_input": "2021-11-19T11:51:57.292593Z",
          "iopub.status.idle": "2021-11-19T11:52:02.919493Z",
          "shell.execute_reply.started": "2021-11-19T11:51:57.292499Z",
          "shell.execute_reply": "2021-11-19T11:52:02.918575Z"
        },
        "trusted": true,
        "id": "TNjXTE3diSQo"
      },
      "source": [
        "# Import libraries\n",
        "import tensorflow as tf\n",
        "import numpy as np\n",
        "import os\n",
        "import random\n",
        "import pandas as pd\n",
        "import seaborn as sns\n",
        "import matplotlib as mpl\n",
        "import matplotlib.pyplot as plt\n",
        "from sklearn.model_selection import train_test_split\n",
        "from sklearn.metrics import accuracy_score, f1_score, precision_score, recall_score\n",
        "from sklearn.metrics import confusion_matrix\n",
        "from PIL import Image\n",
        "from tensorflow.keras.preprocessing.image import ImageDataGenerator\n",
        "from tensorflow.keras.applications.vgg19 import preprocess_input\n",
        "\n",
        "tfk = tf.keras\n",
        "tfkl = tf.keras.layers\n",
        "print(tf.__version__)"
      ],
      "execution_count": null,
      "outputs": []
    },
    {
      "cell_type": "code",
      "metadata": {
        "execution": {
          "iopub.status.busy": "2021-11-19T11:52:13.255162Z",
          "iopub.execute_input": "2021-11-19T11:52:13.255420Z",
          "iopub.status.idle": "2021-11-19T11:52:13.261156Z",
          "shell.execute_reply.started": "2021-11-19T11:52:13.255391Z",
          "shell.execute_reply": "2021-11-19T11:52:13.259995Z"
        },
        "trusted": true,
        "id": "UmLZxld7iSQv"
      },
      "source": [
        "# Random seed for reproducibility\n",
        "seed = 42\n",
        "\n",
        "random.seed(seed)\n",
        "os.environ['PYTHONHASHSEED'] = str(seed)\n",
        "np.random.seed(seed)\n",
        "tf.random.set_seed(seed)\n",
        "tf.compat.v1.set_random_seed(seed)"
      ],
      "execution_count": null,
      "outputs": []
    },
    {
      "cell_type": "code",
      "metadata": {
        "execution": {
          "iopub.status.busy": "2021-11-19T11:52:25.521030Z",
          "iopub.execute_input": "2021-11-19T11:52:25.522175Z",
          "iopub.status.idle": "2021-11-19T11:52:25.527007Z",
          "shell.execute_reply.started": "2021-11-19T11:52:25.522125Z",
          "shell.execute_reply": "2021-11-19T11:52:25.525761Z"
        },
        "trusted": true,
        "id": "Pc19AH5RiSQx"
      },
      "source": [
        "# Setting path directories\n",
        "dataset_dir = '../input/ann-challenge/training'\n",
        "labels = ['Apple','Blueberry','Cherry','Corn','Grape','Orange','Peach','Pepper','Potato','Raspberry','Soybean','Squash','Strawberry','Tomato']"
      ],
      "execution_count": null,
      "outputs": []
    },
    {
      "cell_type": "code",
      "metadata": {
        "execution": {
          "iopub.status.busy": "2021-11-19T11:52:36.242429Z",
          "iopub.execute_input": "2021-11-19T11:52:36.242770Z",
          "iopub.status.idle": "2021-11-19T11:52:36.248656Z",
          "shell.execute_reply.started": "2021-11-19T11:52:36.242733Z",
          "shell.execute_reply": "2021-11-19T11:52:36.247859Z"
        },
        "trusted": true,
        "id": "wPrH-8J5iSQy"
      },
      "source": [
        "# Training metadata\n",
        "batch_size = 32\n",
        "img_height = 256\n",
        "img_width = 256\n",
        "input_shape = (256,256,3)\n",
        "epochs = 200"
      ],
      "execution_count": null,
      "outputs": []
    },
    {
      "cell_type": "code",
      "metadata": {
        "execution": {
          "iopub.status.busy": "2021-11-19T11:52:46.275043Z",
          "iopub.execute_input": "2021-11-19T11:52:46.275569Z",
          "iopub.status.idle": "2021-11-19T11:52:46.280432Z",
          "shell.execute_reply.started": "2021-11-19T11:52:46.275527Z",
          "shell.execute_reply": "2021-11-19T11:52:46.279757Z"
        },
        "trusted": true,
        "id": "FN3KYVMviSQy"
      },
      "source": [
        "# Loader with data augmentation\n",
        "idg = ImageDataGenerator(\n",
        "    shear_range=0.2,\n",
        "    zoom_range=0.2,\n",
        "    horizontal_flip=True,\n",
        "    vertical_flip=True,\n",
        "    width_shift_range=5,\n",
        "    height_shift_range=5,\n",
        "    rotation_range=30,\n",
        "    fill_mode='constant',\n",
        "    cval=0,\n",
        "    validation_split=0.2) "
      ],
      "execution_count": null,
      "outputs": []
    },
    {
      "cell_type": "code",
      "metadata": {
        "execution": {
          "iopub.status.busy": "2021-11-19T11:53:00.905345Z",
          "iopub.execute_input": "2021-11-19T11:53:00.905614Z",
          "iopub.status.idle": "2021-11-19T11:53:05.440246Z",
          "shell.execute_reply.started": "2021-11-19T11:53:00.905585Z",
          "shell.execute_reply": "2021-11-19T11:53:05.439399Z"
        },
        "trusted": true,
        "id": "1umM8fUXiSQ0"
      },
      "source": [
        "# Splitting in training and validation set\n",
        "train_data_generator = idg.flow_from_directory(\n",
        "                  directory=dataset_dir, target_size=(img_width, img_height),\n",
        "                  batch_size=batch_size, seed=seed, subset=\"training\")\n",
        "  \n",
        "valid_data_generator = idg.flow_from_directory(\n",
        "                  directory=dataset_dir, target_size=(img_width, img_height), \n",
        "                  batch_size=batch_size, seed=seed, subset=\"validation\")"
      ],
      "execution_count": null,
      "outputs": []
    },
    {
      "cell_type": "code",
      "metadata": {
        "execution": {
          "iopub.status.busy": "2021-11-19T11:53:20.307752Z",
          "iopub.execute_input": "2021-11-19T11:53:20.308433Z",
          "iopub.status.idle": "2021-11-19T11:53:28.191378Z",
          "shell.execute_reply.started": "2021-11-19T11:53:20.308398Z",
          "shell.execute_reply": "2021-11-19T11:53:28.190631Z"
        },
        "trusted": true,
        "id": "5LIP3BnriSQ2"
      },
      "source": [
        "# Download VGG19 model\n",
        "supernet = tfk.applications.VGG19(\n",
        "    include_top=False,\n",
        "    weights=\"imagenet\",\n",
        "    input_shape=(256,256,3)\n",
        ")\n",
        "supernet.summary()"
      ],
      "execution_count": null,
      "outputs": []
    },
    {
      "cell_type": "code",
      "metadata": {
        "execution": {
          "iopub.status.busy": "2021-11-19T11:53:52.815853Z",
          "iopub.execute_input": "2021-11-19T11:53:52.816441Z",
          "iopub.status.idle": "2021-11-19T11:53:52.949360Z",
          "shell.execute_reply.started": "2021-11-19T11:53:52.816402Z",
          "shell.execute_reply": "2021-11-19T11:53:52.948622Z"
        },
        "trusted": true,
        "id": "GcneSh1liSQ3"
      },
      "source": [
        "# Use the supernet as feature extractor\n",
        "supernet.trainable = False\n",
        "\n",
        "inputs = tfk.Input(shape=(img_height,img_width,3))\n",
        "x = preprocess_input(inputs)\n",
        "x = tfkl.Resizing(256,256, interpolation='bicubic')(x)\n",
        "x = supernet(x)\n",
        "x = tfkl.Flatten(name='Flattening')(x)\n",
        "x = tfkl.Dropout(0.3, seed=seed)(x)\n",
        "x = tfkl.Dense(\n",
        "    256, \n",
        "    activation='relu',\n",
        "    kernel_initializer = tfk.initializers.GlorotUniform(seed))(x)\n",
        "x = tfkl.Dropout(0.3, seed=seed)(x)\n",
        "x = tfkl.Dense(\n",
        "    512, \n",
        "    activation='relu',\n",
        "    kernel_initializer = tfk.initializers.GlorotUniform(seed))(x)\n",
        "x = tfkl.Dropout(0.3, seed=seed)(x)\n",
        "outputs = tfkl.Dense(\n",
        "    14, \n",
        "    activation='softmax',\n",
        "    kernel_initializer = tfk.initializers.GlorotUniform(seed))(x)\n",
        "\n",
        "\n",
        "# Connect input and output through the Model class\n",
        "VGG19_model = tfk.Model(inputs=inputs, outputs=outputs, name='VGG19_model')\n",
        "\n",
        "# Compile the model\n",
        "VGG19_model.compile(loss=tfk.losses.CategoricalCrossentropy(), optimizer=tfk.optimizers.Adam(), metrics='accuracy')\n",
        "VGG19_model.summary()"
      ],
      "execution_count": null,
      "outputs": []
    },
    {
      "cell_type": "code",
      "metadata": {
        "execution": {
          "iopub.status.busy": "2021-11-19T11:54:05.316280Z",
          "iopub.execute_input": "2021-11-19T11:54:05.317028Z",
          "iopub.status.idle": "2021-11-19T11:54:05.327449Z",
          "shell.execute_reply.started": "2021-11-19T11:54:05.316987Z",
          "shell.execute_reply": "2021-11-19T11:54:05.326647Z"
        },
        "trusted": true,
        "id": "aMVMO1NxiSQ4"
      },
      "source": [
        "# Checking GPU\n",
        "device_name = tf.test.gpu_device_name()\n",
        "if device_name != '/device:GPU:0':\n",
        "  raise SystemError('GPU device not found')\n",
        "print('Found GPU at: {}'.format(device_name))"
      ],
      "execution_count": null,
      "outputs": []
    },
    {
      "cell_type": "code",
      "metadata": {
        "execution": {
          "iopub.status.busy": "2021-11-19T11:54:16.745320Z",
          "iopub.execute_input": "2021-11-19T11:54:16.745782Z",
          "iopub.status.idle": "2021-11-19T13:44:03.584332Z",
          "shell.execute_reply.started": "2021-11-19T11:54:16.745735Z",
          "shell.execute_reply": "2021-11-19T13:44:03.583580Z"
        },
        "trusted": true,
        "id": "XIGW5OgTiSQ5"
      },
      "source": [
        "# Training the model\n",
        "history = VGG19_model.fit(\n",
        "    train_data_generator,\n",
        "    batch_size = batch_size,\n",
        "    epochs = epochs,\n",
        "    validation_data = valid_data_generator,\n",
        "    callbacks = [tfk.callbacks.EarlyStopping(monitor='val_accuracy', mode='max', patience=10, restore_best_weights=True)]\n",
        ").history"
      ],
      "execution_count": null,
      "outputs": []
    },
    {
      "cell_type": "code",
      "metadata": {
        "execution": {
          "iopub.status.busy": "2021-11-19T13:46:07.227544Z",
          "iopub.execute_input": "2021-11-19T13:46:07.227838Z",
          "iopub.status.idle": "2021-11-19T13:46:57.506584Z",
          "shell.execute_reply.started": "2021-11-19T13:46:07.227789Z",
          "shell.execute_reply": "2021-11-19T13:46:57.505788Z"
        },
        "trusted": true,
        "id": "K8W0pInciSQ6"
      },
      "source": [
        "VGG19_model.save('VGG19_Model')"
      ],
      "execution_count": null,
      "outputs": []
    },
    {
      "cell_type": "code",
      "metadata": {
        "execution": {
          "iopub.status.busy": "2021-11-19T13:48:59.964460Z",
          "iopub.execute_input": "2021-11-19T13:48:59.964715Z",
          "iopub.status.idle": "2021-11-19T13:49:00.399327Z",
          "shell.execute_reply.started": "2021-11-19T13:48:59.964687Z",
          "shell.execute_reply": "2021-11-19T13:49:00.398645Z"
        },
        "trusted": true,
        "id": "R9nAES5viSQ6"
      },
      "source": [
        "# Plotting the training\n",
        "plt.figure(figsize=(15,5))\n",
        "plt.plot(history['loss'], label='Training', alpha=.8, color='#ff7f0e')\n",
        "plt.plot(history['val_loss'], label='Validation', alpha=.8, color='#4D61E2')\n",
        "plt.legend(loc='upper left')\n",
        "plt.title('Categorical Crossentropy')\n",
        "plt.grid(alpha=.3)\n",
        "\n",
        "plt.figure(figsize=(15,5))\n",
        "plt.plot(history['accuracy'], label='Training', alpha=.8, color='#ff7f0e')\n",
        "plt.plot(history['val_accuracy'], label='Validation', alpha=.8, color='#4D61E2')\n",
        "plt.legend(loc='upper left')\n",
        "plt.title('Accuracy')\n",
        "plt.grid(alpha=.3)\n",
        "\n",
        "plt.show()"
      ],
      "execution_count": null,
      "outputs": []
    },
    {
      "cell_type": "code",
      "metadata": {
        "execution": {
          "iopub.status.busy": "2021-11-19T13:49:07.063387Z",
          "iopub.execute_input": "2021-11-19T13:49:07.063633Z",
          "iopub.status.idle": "2021-11-19T13:49:07.069187Z",
          "shell.execute_reply.started": "2021-11-19T13:49:07.063606Z",
          "shell.execute_reply": "2021-11-19T13:49:07.068272Z"
        },
        "trusted": true,
        "id": "vHc6ta1qiSQ6"
      },
      "source": [
        "# Showing validation accuracy\n",
        "max(history['val_accuracy'])"
      ],
      "execution_count": null,
      "outputs": []
    }
  ]
}